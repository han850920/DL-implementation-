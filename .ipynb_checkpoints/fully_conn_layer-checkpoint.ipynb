{
 "cells": [
  {
   "cell_type": "code",
   "execution_count": null,
   "metadata": {},
   "outputs": [],
   "source": [
    "import numpy as np\n",
    "\n",
    "class fcl():\n",
    "    def __init__(self,\n",
    "                 layer,\n",
    "                 pre_layer,\n",
    "                 bs = 4):\n",
    "        self.bs = bs\n",
    "        self.layer = layer\n",
    "        self.pre_layer = pre_layer\n",
    "        self.i = np.zeros((pre_layer,self.bs),dtype=\"float64\")\n",
    "        self.z = np.zeros((self.layer,self.bs),dtype=\"float64\")\n",
    "        self.bnz = np.zeros((self.layer,self.bs),dtype=\"float64\")\n",
    "        self.a = np.zeros((self.layer,self.bs),dtype=\"float64\")\n",
    "        self.W = np.random.randn(self.layer, self.pre_layer).astype('float64')\n",
    "        self.b = np.random.randn(self.layer, 1).astype('float64')\n",
    "        self.gamma = np.random.randn(self.layer,1).astype('float64')\n",
    "        self.beta = np.random.randn(self.layer,1).astype('float64')\n",
    "        \n",
    "        self.dJdi = np.zeros(self.i.shape,dtype='float64')\n",
    "        self.dJdz = np.zeros(self.z.shape,dtype='float64')\n",
    "        self.dJdbnz = np.zeros(self.bnz.shape,dtype='float64')\n",
    "        self.dJda = np.zeros(self.a.shape,dtype='float64')\n",
    "        self.dJdW = np.zeros(self.W.shape,dtype='float64')\n",
    "        self.dJdb = np.zeros(self.b.shape,dtype='float64')\n",
    "        self.dJdgamma = np.zeros(self.gamma.shape,dtype='float64')\n",
    "        self.dJdbeta = np.zeros(self.beta.shape,dtype='float64')\n",
    "        \n"
   ]
  }
 ],
 "metadata": {
  "kernelspec": {
   "display_name": "Python 3",
   "language": "python",
   "name": "python3"
  },
  "language_info": {
   "codemirror_mode": {
    "name": "ipython",
    "version": 3
   },
   "file_extension": ".py",
   "mimetype": "text/x-python",
   "name": "python",
   "nbconvert_exporter": "python",
   "pygments_lexer": "ipython3",
   "version": "3.5.5"
  }
 },
 "nbformat": 4,
 "nbformat_minor": 2
}
